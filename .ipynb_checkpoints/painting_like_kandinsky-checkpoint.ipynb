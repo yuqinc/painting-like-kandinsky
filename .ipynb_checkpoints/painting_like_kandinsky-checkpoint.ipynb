{
 "cells": [
  {
   "cell_type": "markdown",
   "metadata": {},
   "source": [
    "# Import all the useful modules"
   ]
  },
  {
   "cell_type": "code",
   "execution_count": 54,
   "metadata": {
    "collapsed": false
   },
   "outputs": [],
   "source": [
    "%matplotlib inline\n",
    "\n",
    "import numpy as np\n",
    "import pandas as pd\n",
    "from pylab import *\n",
    "import random\n",
    "import matplotlib.pyplot as plt\n",
    "from matplotlib import rc, rcParams\n",
    "from matplotlib.patches import Rectangle"
   ]
  },
  {
   "cell_type": "code",
   "execution_count": 55,
   "metadata": {
    "collapsed": true
   },
   "outputs": [],
   "source": [
    "def set_pub():\n",
    "    rc('font', weight='bold')    # bold fonts are easier to see\n",
    "    rc('ytick', labelsize=15)     # tick labels bigger\n",
    "    rc('xtick', labelsize=15)\n",
    "    #rc('lines', lw=1, color='k') # thicker black lines (no budget for color!)\n",
    "    #rc('grid', c='0.5', ls='-', lw=0.5)  # solid gray grid lines\n",
    "    rcParams['figure.figsize']=8,8\n",
    "    rc('savefig', dpi=300)       # higher res outputs\n",
    "\n",
    "set_pub()"
   ]
  },
  {
   "cell_type": "markdown",
   "metadata": {},
   "source": [
    "# Define a function to plot a figure to png"
   ]
  },
  {
   "cell_type": "code",
   "execution_count": null,
   "metadata": {
    "collapsed": true
   },
   "outputs": [],
   "source": [
    "def art_plot(seed):\n",
    "    random.seed(seed)\n",
    "    df=pd.DataFrame(np.random.randn(13,5), columns=list('ABCDE'))\n",
    "    xs =df['A']\n",
    "    ys =df['B']\n",
    "    area=np.pi*(13*df['D'])**2\n",
    "    N =len(xs)\n",
    "    hs=df['E']\n",
    "    \n",
    "#cmap=plt.cm.hot\n",
    "    ax =figure(facecolor='Black').add_subplot(111,aspect='equal')\n",
    "    for x,y,h in zip(xs,ys,hs):\n",
    "        ax.add_artist(Rectangle(xy=(x,(1-x)),color=np.random.rand(4,1),alpha=0.9,width=h,height=h))\n",
    "    ax.set_axis_bgcolor('Black')\n",
    "    #plt.show()\n",
    "\n",
    "    savefig(\"rectangle_scatter\"+str(seed)+\".png\", \\\n",
    "        figsize=(5, 5), facecolor='black',\\\n",
    "        transparent=True, edgecolor='none', orientation='portrait', \\\n",
    "        papertype=None, format=None,\\\n",
    "        bbox_inches=None, pad_inches=0.1, frameon=None)"
   ]
  },
  {
   "cell_type": "code",
   "execution_count": null,
   "metadata": {
    "collapsed": false,
    "scrolled": true
   },
   "outputs": [],
   "source": [
    "for i in range (0,10):\n",
    "    art_plot(i)"
   ]
  }
 ],
 "metadata": {
  "kernelspec": {
   "display_name": "Python 2",
   "language": "python",
   "name": "python2"
  },
  "language_info": {
   "codemirror_mode": {
    "name": "ipython",
    "version": 2
   },
   "file_extension": ".py",
   "mimetype": "text/x-python",
   "name": "python",
   "nbconvert_exporter": "python",
   "pygments_lexer": "ipython2",
   "version": "2.7.10"
  }
 },
 "nbformat": 4,
 "nbformat_minor": 0
}
